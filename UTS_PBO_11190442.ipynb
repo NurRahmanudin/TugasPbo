{
 "cells": [
  {
   "cell_type": "code",
   "execution_count": null,
   "metadata": {},
   "outputs": [
    {
     "name": "stdout",
     "output_type": "stream",
     "text": [
      "Program Python Hitung Luas & Volume Prisma Segi Enam Beraturan\n",
      "---------------nurrahmanudin.com---------------\n",
      "Masukan  Luas Alasnya  : 24\n",
      "Masukan Tinggginya  : 12\n",
      "-----------------Hasilnya-----------------\n",
      "Volume Prisma Segi Enam Beraturan         = 288.0\n"
     ]
    }
   ],
   "source": [
    "print(\"Program Python Hitung Luas & Volume Prisma Segi Enam Beraturan\")\n",
    "print(\"---------------nurrahmanudin.com---------------\")\n",
    "\n",
    "for i in iter(int,1):\n",
    "    luas_alas = float(input(\"Masukan  Luas Alasnya  : \")) \n",
    "    tinggi= float(input(\"Masukan Tinggginya  : \"))\n",
    "    volume = luas_alas*tinggi    \n",
    "    print(\"-----------------Hasilnya-----------------\")\n",
    "    print(\"Volume Prisma Segi Enam Beraturan         =\", volume) \n",
    "    ulang=input(\"ulang?(y/t)\")\n",
    "    if ulang == \"t\":\n",
    "        break\n"
   ]
  },
  {
   "cell_type": "code",
   "execution_count": null,
   "metadata": {},
   "outputs": [],
   "source": []
  }
 ],
 "metadata": {
  "kernelspec": {
   "display_name": "Python 3",
   "language": "python",
   "name": "python3"
  },
  "language_info": {
   "codemirror_mode": {
    "name": "ipython",
    "version": 3
   },
   "file_extension": ".py",
   "mimetype": "text/x-python",
   "name": "python",
   "nbconvert_exporter": "python",
   "pygments_lexer": "ipython3",
   "version": "3.8.3"
  }
 },
 "nbformat": 4,
 "nbformat_minor": 4
}
